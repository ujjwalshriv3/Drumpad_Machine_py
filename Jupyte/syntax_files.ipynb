{
 "cells": [
  {
   "cell_type": "code",
   "execution_count": 1,
   "id": "9530373b",
   "metadata": {},
   "outputs": [
    {
     "name": "stdout",
     "output_type": "stream",
     "text": [
      "hii\n"
     ]
    }
   ],
   "source": [
    "print('hii')"
   ]
  },
  {
   "cell_type": "code",
   "execution_count": 2,
   "id": "e8e7a591",
   "metadata": {},
   "outputs": [
    {
     "name": "stdout",
     "output_type": "stream",
     "text": [
      "5\n"
     ]
    }
   ],
   "source": [
    "kc = 5\n",
    "print(kc)"
   ]
  },
  {
   "cell_type": "code",
   "execution_count": 3,
   "id": "c8ddd24e",
   "metadata": {},
   "outputs": [
    {
     "name": "stdout",
     "output_type": "stream",
     "text": [
      "kc 5 kc ,  \n"
     ]
    }
   ],
   "source": [
    "print(\"kc\", 5, 'kc', \",\", \" \")"
   ]
  },
  {
   "cell_type": "code",
   "execution_count": 4,
   "id": "7510777f",
   "metadata": {},
   "outputs": [
    {
     "ename": "TypeError",
     "evalue": "unsupported operand type(s) for +: 'int' and 'str'",
     "output_type": "error",
     "traceback": [
      "\u001b[1;31m---------------------------------------------------------------------------\u001b[0m",
      "\u001b[1;31mTypeError\u001b[0m                                 Traceback (most recent call last)",
      "Cell \u001b[1;32mIn[4], line 1\u001b[0m\n\u001b[1;32m----> 1\u001b[0m \u001b[38;5;28mprint\u001b[39m(\u001b[38;5;241;43m5\u001b[39;49m\u001b[38;5;241;43m+\u001b[39;49m\u001b[38;5;124;43m\"\u001b[39;49m\u001b[38;5;124;43m6\u001b[39;49m\u001b[38;5;124;43m\"\u001b[39;49m)\n",
      "\u001b[1;31mTypeError\u001b[0m: unsupported operand type(s) for +: 'int' and 'str'"
     ]
    }
   ],
   "source": [
    "print(5+\"6\")"
   ]
  },
  {
   "cell_type": "code",
   "execution_count": 10,
   "id": "bf4fec33",
   "metadata": {},
   "outputs": [
    {
     "name": "stdout",
     "output_type": "stream",
     "text": [
      "1 karishma\n"
     ]
    }
   ],
   "source": [
    "print(1,\"karishma\")"
   ]
  },
  {
   "cell_type": "code",
   "execution_count": 11,
   "id": "70e4e5d3",
   "metadata": {},
   "outputs": [
    {
     "name": "stdout",
     "output_type": "stream",
     "text": [
      "1\n"
     ]
    }
   ],
   "source": [
    "print(3-2)"
   ]
  },
  {
   "cell_type": "code",
   "execution_count": 12,
   "id": "a5084c2b",
   "metadata": {},
   "outputs": [
    {
     "name": "stdout",
     "output_type": "stream",
     "text": [
      "3 + 5\n"
     ]
    }
   ],
   "source": [
    "print(\"3\",'+',5)"
   ]
  },
  {
   "cell_type": "code",
   "execution_count": 5,
   "id": "d8aeada8",
   "metadata": {},
   "outputs": [
    {
     "name": "stdout",
     "output_type": "stream",
     "text": [
      "Hello Geek\n",
      "Hello Geek\n",
      "Hello Geek\n",
      "Hello Geek\n",
      "Hello Geek\n"
     ]
    }
   ],
   "source": [
    "# Python program to illustrate\n",
    "# while loop\n",
    "count = 0\n",
    "while (count < 5):\n",
    "\tcount = count + 1\n",
    "\tprint(\"Hello Geek\")\n"
   ]
  },
  {
   "cell_type": "code",
   "execution_count": 6,
   "id": "9da536d7",
   "metadata": {},
   "outputs": [
    {
     "name": "stdout",
     "output_type": "stream",
     "text": [
      "karishma >= 9\n",
      "outside loop\n"
     ]
    }
   ],
   "source": [
    "# Python program to illustrate\n",
    "# while loop\n",
    "karishma = 10\n",
    "count = 0\n",
    "while (karishma < 9):\n",
    "    karishma  = karishma + 1\n",
    "    count = count + 1\n",
    "    print(\"karishma\", count)\n",
    "else:\n",
    "    print('karishma >= 9')\n",
    "print('outside loop')"
   ]
  },
  {
   "cell_type": "code",
   "execution_count": 7,
   "id": "548af7dd",
   "metadata": {},
   "outputs": [
    {
     "name": "stdout",
     "output_type": "stream",
     "text": [
      "b is greater than a\n"
     ]
    }
   ],
   "source": [
    "a = 44\n",
    "b = 55\n",
    "if b > a:\n",
    "  print(\"b is greater than a\")\n",
    "elif a == b:\n",
    "  print(\"a and b are equal\")\n",
    "else:\n",
    "    print(\"else printed\")"
   ]
  },
  {
   "cell_type": "code",
   "execution_count": 8,
   "id": "f9aa1dae",
   "metadata": {},
   "outputs": [
    {
     "name": "stdout",
     "output_type": "stream",
     "text": [
      "2\n",
      "4\n",
      "6\n",
      "8\n"
     ]
    }
   ],
   "source": [
    "# Python program to illustrate\n",
    "# Iterating over range 0 to n-1\n",
    "\n",
    "a = 10\n",
    "for i in range(2, a, 2):\n",
    "    print(i)\n",
    "    "
   ]
  },
  {
   "cell_type": "code",
   "execution_count": 9,
   "id": "3fc81e34",
   "metadata": {},
   "outputs": [
    {
     "name": "stdout",
     "output_type": "stream",
     "text": [
      "karishma is a good girl * infinte\n",
      "karishma is a good girlkarishma is a good girlkarishma is a good girlkarishma is a good girlkarishma is a good girl\n"
     ]
    }
   ],
   "source": [
    "print(\"karishma is a good girl * infinte\")\n",
    "print(\"karishma is a good girl\" * 5)"
   ]
  },
  {
   "cell_type": "code",
   "execution_count": 9,
   "id": "7090bf2e",
   "metadata": {},
   "outputs": [
    {
     "name": "stdout",
     "output_type": "stream",
     "text": [
      "Hello Guys(cows)\n",
      "karishma, 5, 6, 7, 8, 9, 10\n"
     ]
    }
   ],
   "source": [
    "# Python program to illustrate file read and write modes\n",
    "\n",
    "karishma = \"okiee\"\n",
    "file_pointer = open(\"testfile.txt\", \"w\") # this will create a file named testfile.txt in the current directory and then will open it in write mode\n",
    "file_pointer.write(\"Hello World\")\n",
    "file_pointer.write(karishma) # this will write the string in the file defined above\n",
    "# print(file_pointer.read())\n",
    "# this above line will print nothing as the pointer is at the end of the file coz we have written in the file\n",
    "file_pointer.close() # this will close the file so that it can be used by other programs (locking in dbms)\n",
    "# 2nd time opening the file in read mode\n",
    "file_pointer = open(\"testfile.txt\", \"r\") # this will open the file in read mode and the pointer will be at the beginning of the file\n",
    "file_pointer.read() # this will read the file but will not print anything as the pointer is at the beginning of the file\n",
    "file_pointer.close() # as we close the file, the pointer will be at the end of the file and variable will be reassigned to None\n",
    "# 3rd time opening the file in append mode\n",
    "file_pointer2 = open(\"testfile.txt\", \"a\") # this will open the file in append mode and the pointer will be at the end of the file\n",
    "# append mode will not overwrite the file but will append the data to the end of the file unlike write mode which will overwrite the file\n",
    "file_pointer2.write(\"Hello World\")\n",
    "file_pointer2.close()\n",
    "# 4th time opening the file in write mode \"w\"\n",
    "file_pointer= open(\"testfile.txt\", \"w\")\n",
    "file_pointer.write(\"Hello Guys(cows)\")\n",
    "file_pointer.close()\n",
    "# 5th time opening the file in read mode \"r\" and should print \"Hello Guys(cows)\"\n",
    "fp = open(\"testfile.txt\", \"r\")\n",
    "print(fp.read()) # this will print the contents of the file after reading it hence print statement.\n",
    "fp.close()\n",
    "\n",
    "#csv file read and write CSV = (comma separated values)\n",
    "# csv file is a file which has data separated by commas and each row is a new line\n",
    "# csv file is used to store data in a tabular format\n",
    "# below is a simpler way to read and write csv files\n",
    "csv_filepointer = open(\"testfile.csv\", \"w\")\n",
    "csv_filepointer.write(\"karishma, 5, 6, 7, 8, 9, 10\")\n",
    "csv_filepointer.close()\n",
    "csv_filepointer = open(\"testfile.csv\", \"r\")\n",
    "print(csv_filepointer.read())\n",
    "csv_filepointer.close()"
   ]
  }
 ],
 "metadata": {
  "kernelspec": {
   "display_name": "Python 3",
   "language": "python",
   "name": "python3"
  },
  "language_info": {
   "codemirror_mode": {
    "name": "ipython",
    "version": 3
   },
   "file_extension": ".py",
   "mimetype": "text/x-python",
   "name": "python",
   "nbconvert_exporter": "python",
   "pygments_lexer": "ipython3",
   "version": "3.10.7 (tags/v3.10.7:6cc6b13, Sep  5 2022, 14:08:36) [MSC v.1933 64 bit (AMD64)]"
  },
  "vscode": {
   "interpreter": {
    "hash": "ba93e03e2e5be422990589c0928eb499d1a431986c5df80df2a54d39de0a70e9"
   }
  }
 },
 "nbformat": 4,
 "nbformat_minor": 5
}
