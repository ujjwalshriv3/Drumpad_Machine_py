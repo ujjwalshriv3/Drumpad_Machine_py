{
 "cells": [
  {
   "cell_type": "code",
   "execution_count": 1,
   "id": "5365f085",
   "metadata": {},
   "outputs": [
    {
     "name": "stdout",
     "output_type": "stream",
     "text": [
      "b is greater than a\n"
     ]
    }
   ],
   "source": [
    "#if…elif…else in Python\n",
    "a = 44\n",
    "b = 55\n",
    "if b > a:\n",
    "  print(\"b is greater than a\")\n",
    "elif a == b:\n",
    "  print(\"a and b are equal\")\n",
    "else:\n",
    "    print(\"else printed\")"
   ]
  },
  {
   "cell_type": "code",
   "execution_count": 3,
   "id": "8f2a9a21",
   "metadata": {},
   "outputs": [
    {
     "name": "stdout",
     "output_type": "stream",
     "text": [
      "Element found at index:  3\n"
     ]
    }
   ],
   "source": [
    "# itterative\n",
    "# Linear Search in Python\n",
    "\n",
    "def linearSearch(array, n, x):\n",
    "\n",
    "    # Going through array sequencially\n",
    "    for i in range(0, n):\n",
    "        if (array[i] == x):\n",
    "            return i\n",
    "    return -1\n",
    "\n",
    "\n",
    "array = [2, 4, 0, 1, 9]\n",
    "x = 1\n",
    "n = len(array)\n",
    "result = linearSearch(array, n, x)\n",
    "if(result == -1):\n",
    "    print(\"Element not found\")\n",
    "else:\n",
    "    print(\"Element found at index: \", result)"
   ]
  },
  {
   "cell_type": "code",
   "execution_count": 49,
   "id": "1791745a",
   "metadata": {},
   "outputs": [
    {
     "name": "stdout",
     "output_type": "stream",
     "text": [
      "Element 3 is present at index 4\n"
     ]
    }
   ],
   "source": [
    "# Recursive function to search x in arr[l..r]\n",
    "def recSearch( arr, l, r, x):\n",
    "    if r < l:\n",
    "        return -1\n",
    "    if arr[l] == x:\n",
    "        return l\n",
    "    if arr[r] == x:\n",
    "        return r\n",
    "    return recSearch(arr, l+1, r-1, x)\n",
    "\n",
    "# Driver Code\n",
    "arr = [12, 34, 54, 2, 3]\n",
    "n = len(arr)\n",
    "x = 3\n",
    "index = recSearch(arr, 0, n-1, x)\n",
    "if index != -1:\n",
    "    print (\"Element\", x,\"is present at index %d\" %(index))\n",
    "else:\n",
    "    print (\"Element %d is not present\" %(x))\n",
    "\n",
    "# Contributed By Harshit Agrawal"
   ]
  },
  {
   "cell_type": "code",
   "execution_count": 5,
   "id": "3a8b3d56",
   "metadata": {},
   "outputs": [
    {
     "name": "stdout",
     "output_type": "stream",
     "text": [
      "Enter a number: 5\n",
      "5 is Odd\n"
     ]
    }
   ],
   "source": [
    "# Python program to check if the input number is odd or even.\n",
    "# A number is even if division by 2 gives a remainder of 0.\n",
    "# If the remainder is 1, it is an odd number.\n",
    "\n",
    "num = int(input(\"Enter a number: \"))\n",
    "if (num % 2) == 0:\n",
    "   print(\"{0} is Even\".format(num))\n",
    "else:\n",
    "   print(\"{0} is Odd\".format(num))"
   ]
  },
  {
   "cell_type": "code",
   "execution_count": 6,
   "id": "25b7a4e8",
   "metadata": {},
   "outputs": [
    {
     "name": "stdout",
     "output_type": "stream",
     "text": [
      "Enter number:5\n",
      "Number is odd!\n"
     ]
    }
   ],
   "source": [
    "#Take user input and check even or odd using recursion\n",
    "def check(n):\n",
    "    if (n < 2):\n",
    "        return (n % 2 == 0)\n",
    "    return (check(n - 2))\n",
    "n=int(input(\"Enter number:\"))\n",
    "if(check(n)==True):\n",
    "      print(\"Number is even!\")\n",
    "else:\n",
    "      print(\"Number is odd!\")"
   ]
  },
  {
   "cell_type": "code",
   "execution_count": 48,
   "id": "a2f95ed9",
   "metadata": {},
   "outputs": [
    {
     "name": "stdout",
     "output_type": "stream",
     "text": [
      "-50\n"
     ]
    }
   ],
   "source": [
    "# Recursive python 3 program to\n",
    "# find minimum element in array\n",
    "\n",
    "# function to print Minimum element\n",
    "# using recursion\n",
    "def findMinRec(A, n):\n",
    "    \n",
    "    # if size = 0 means whole array\n",
    "    # has been traversed\n",
    "    if (n == 1):\n",
    "        return A[0]\n",
    "    return min(A[n - 1], findMinRec(A, n - 1))\n",
    "\n",
    "# Driver Code\n",
    "if __name__ == '__main__':\n",
    "    A = [1, 4, 45, 6, -50, 10, 2]\n",
    "    n = len(A)\n",
    "    print(findMinRec(A, n))"
   ]
  },
  {
   "cell_type": "code",
   "execution_count": 11,
   "id": "04b09ae9",
   "metadata": {},
   "outputs": [
    {
     "name": "stdout",
     "output_type": "stream",
     "text": [
      "45\n"
     ]
    }
   ],
   "source": [
    "# Recursive Python 3 program to\n",
    "# find maximum in an array\n",
    "\n",
    "# function to return maximum element\n",
    "# using recursion\n",
    "\n",
    "# Python program to find the largest number among the three input numbers using recursion\n",
    "\"\"\"\n",
    "def function():\n",
    "_if something:        recursive fxns general approach\n",
    "__return 0\n",
    "_else:\n",
    "__return function()\n",
    "\n",
    "\"\"\"\n",
    "#https://prepinsta.com/python-program/largest-element-in-an-array-using-recursion/\n",
    "\n",
    "def findMaxRec(A, n):\n",
    "\n",
    "    # if n = 0 means whole array\n",
    "    # has been traversed\n",
    "    if (n == 1):\n",
    "        return A[0]\n",
    "    return max(A[n - 1], findMaxRec(A, n - 1))\n",
    "\n",
    "# Driver Code\n",
    "if __name__ == \"__main__\":\n",
    "\n",
    "    A = [1, 4, 45, 6, -50, 10, 2]\n",
    "    n = len(A)\n",
    "    print(findMaxRec(A, n))"
   ]
  },
  {
   "cell_type": "code",
   "execution_count": 13,
   "id": "3ed1fcbc",
   "metadata": {},
   "outputs": [
    {
     "name": "stdout",
     "output_type": "stream",
     "text": [
      "Largest element is: 99\n"
     ]
    }
   ],
   "source": [
    "# Python program to find largest\n",
    "# number in a list\n",
    "\n",
    "# list of numbers\n",
    "list1 = [10, 20, 4, 45, 99]\n",
    "\n",
    "# sorting the list\n",
    "list1.sort()\n",
    "\n",
    "# printing the last element\n",
    "print(\"Largest element is:\", list1[-1])\n"
   ]
  },
  {
   "cell_type": "code",
   "execution_count": 14,
   "id": "a69e77f5",
   "metadata": {},
   "outputs": [
    {
     "name": "stdout",
     "output_type": "stream",
     "text": [
      "Largest element is: 99\n"
     ]
    }
   ],
   "source": [
    "# Python program to find largest\n",
    "# number in a list using max() method\n",
    "\n",
    "# list of numbers\n",
    "list1 = [10, 20, 4, 45, 99]\n",
    "\n",
    "\n",
    "# printing the maximum element\n",
    "print(\"Largest element is:\", max(list1))\n"
   ]
  },
  {
   "cell_type": "code",
   "execution_count": 47,
   "id": "ce06b03f",
   "metadata": {},
   "outputs": [
    {
     "name": "stdout",
     "output_type": "stream",
     "text": [
      "Enter number of elements in list: 2\n",
      "Enter elements: 1\n",
      "Enter elements: 3\n",
      "Largest element is: 3\n"
     ]
    }
   ],
   "source": [
    "# Python program to find largest\n",
    "# number in a list using for loop\n",
    "\n",
    "# creating empty list\n",
    "list1 = []\n",
    "\n",
    "# asking number of elements to put in list\n",
    "num = int(input(\"Enter number of elements in list: \"))\n",
    "\n",
    "# iterating till num to append elements in list\n",
    "for i in range(1, num + 1):\n",
    "    ele = int(input(\"Enter elements: \"))\n",
    "    list1.append(ele)\n",
    "\n",
    "# print maximum element\n",
    "print(\"Largest element is:\", max(list1))"
   ]
  },
  {
   "cell_type": "code",
   "execution_count": 46,
   "id": "fbb3042f",
   "metadata": {},
   "outputs": [
    {
     "name": "stdout",
     "output_type": "stream",
     "text": [
      "Largest element is: 99\n"
     ]
    }
   ],
   "source": [
    "# Python program to find largest\n",
    "# number in a list using def & function\n",
    "\n",
    "def myMax(list1):\n",
    "\n",
    "    # Assume first number in list is largest\n",
    "    # initially and assign it to variable \"max\"\n",
    "    max = list1[0]\n",
    "# Now traverse through the list and compare\n",
    "    # each number with \"max\" value. Whichever is\n",
    "    # largest assign that value to \"max'.\n",
    "    for x in list1:\n",
    "        if x > max:\n",
    "            max = x\n",
    "\n",
    "    # after complete traversing the list\n",
    "    # return the \"max\" value\n",
    "    return max\n",
    "\n",
    "\n",
    "# Driver code\n",
    "list1 = [10, 20, 4, 45, 99]\n",
    "print(\"Largest element is:\", myMax(list1))\n"
   ]
  },
  {
   "cell_type": "code",
   "execution_count": 17,
   "id": "5b7a93a3",
   "metadata": {},
   "outputs": [
    {
     "name": "stdout",
     "output_type": "stream",
     "text": [
      "29 is a prime number\n"
     ]
    }
   ],
   "source": [
    "# Program to check if a number is prime or not\n",
    "# method 1 of for loop\n",
    "num = 29\n",
    "\n",
    "# To take input from the user\n",
    "#num = int(input(\"Enter a number: \"))\n",
    "\n",
    "# define a flag variable\n",
    "flag = False\n",
    "\n",
    "# prime numbers are greater than 1\n",
    "if num > 1:\n",
    "    # check for factors\n",
    "    for i in range(2, num):\n",
    "        if (num % i) == 0:\n",
    "            # if factor is found, set flag to True\n",
    "            flag = True\n",
    "            # break out of loop\n",
    "            break\n",
    "\n",
    "# check if flag is True\n",
    "if flag:\n",
    "    print(num, \"is not a prime number\")\n",
    "else:\n",
    "    print(num, \"is a prime number\")"
   ]
  },
  {
   "cell_type": "code",
   "execution_count": 18,
   "id": "209b6c44",
   "metadata": {},
   "outputs": [
    {
     "name": "stdout",
     "output_type": "stream",
     "text": [
      "407 is not a prime number\n",
      "11 times 37 is 407\n"
     ]
    }
   ],
   "source": [
    "# Program to check if a number is prime or not\n",
    "#method 2 Using a for...else statement\n",
    "\n",
    "num = 407\n",
    "\n",
    "# To take input from the user\n",
    "#num = int(input(\"Enter a number: \"))\n",
    "\n",
    "# prime numbers are greater than 1\n",
    "if num > 1:\n",
    "   # check for factors\n",
    "   for i in range(2,num):\n",
    "       if (num % i) == 0:\n",
    "           print(num,\"is not a prime number\")\n",
    "           print(i,\"times\",num//i,\"is\",num)\n",
    "           break\n",
    "   else:\n",
    "       print(num,\"is a prime number\")\n",
    "       \n",
    "# if input number is less than\n",
    "# or equal to 1, it is not prime\n",
    "else:\n",
    "   print(num,\"is not a prime number\")"
   ]
  },
  {
   "cell_type": "code",
   "execution_count": 43,
   "id": "65396820",
   "metadata": {},
   "outputs": [
    {
     "name": "stdout",
     "output_type": "stream",
     "text": [
      "11 is a prime number\n"
     ]
    }
   ],
   "source": [
    "# why use n/2 in loop ?? and why add +1 after it?\n",
    "#method 3 for loop till n/2\n",
    "\n",
    "num = 11\n",
    "# If given number is greater than 1\n",
    "if num > 1:\n",
    "    # Iterate from 2 to n / 2\n",
    "    for i in range(2, int(num/2)+1):\n",
    "        # If num is divisible by any number between\n",
    "        # 2 and n / 2, it is not prime\n",
    "        if (num % i) == 0:\n",
    "            print(num, \"is not a prime number\")\n",
    "            break\n",
    "    else:\n",
    "        print(num, \"is a prime number\")\n",
    "else:\n",
    "    print(num, \"is not a prime number\")\n"
   ]
  },
  {
   "cell_type": "code",
   "execution_count": 42,
   "id": "55a1103c",
   "metadata": {},
   "outputs": [
    {
     "name": "stdout",
     "output_type": "stream",
     "text": [
      "False\n"
     ]
    }
   ],
   "source": [
    "#fastest algorithm to check prime\n",
    "#method 4 flag and square root function from math module\n",
    "\n",
    "from math import sqrt\n",
    "# n is the number to be check whether it is prime or not\n",
    "n = 1\n",
    "\n",
    "# this flag maintains status whether the n is prime or not\n",
    "prime_flag = 0\n",
    "\n",
    "if(n > 1):\n",
    "    for i in range(2, int(sqrt(n)) + 1):\n",
    "        if (n % i == 0):\n",
    "            prime_flag = 1\n",
    "            break\n",
    "    if (prime_flag == 0):\n",
    "        print(\"True\")\n",
    "    else:\n",
    "        print(\"False\")\n",
    "else:\n",
    "    print(\"False\")\n"
   ]
  },
  {
   "cell_type": "code",
   "execution_count": 21,
   "id": "245de86c",
   "metadata": {},
   "outputs": [
    {
     "name": "stdout",
     "output_type": "stream",
     "text": [
      "Before swapping: \n",
      "Value of x :  5  and y :  7\n",
      "After swapping: \n",
      "Value of x :  7  and y :  5\n"
     ]
    }
   ],
   "source": [
    "# Python code to swap two numbers\n",
    "# without using another variable\n",
    "#method 1 valid in python only\n",
    "\n",
    "x = 5\n",
    "y = 7\n",
    "\n",
    "print (\"Before swapping: \")\n",
    "print(\"Value of x : \", x, \" and y : \", y)\n",
    "\n",
    "# code to swap 'x' and 'y'\n",
    "x, y = y, x\n",
    "\n",
    "print (\"After swapping: \")\n",
    "print(\"Value of x : \", x, \" and y : \", y)\n"
   ]
  },
  {
   "cell_type": "code",
   "execution_count": 23,
   "id": "72624375",
   "metadata": {},
   "outputs": [
    {
     "name": "stdout",
     "output_type": "stream",
     "text": [
      "Before swapping: \n",
      "Value of x :  5  and y :  10\n",
      "After swapping: \n",
      "Value of x :  10  and y :  5\n"
     ]
    }
   ],
   "source": [
    "# Python code to swap two numbers\n",
    "# using Bitwise XOR method\n",
    "#method 2\n",
    "\n",
    "x = 5 # x = 0101\n",
    "y = 10 # y = 1010\n",
    "\n",
    "print (\"Before swapping: \")\n",
    "print(\"Value of x : \", x, \" and y : \", y)\n",
    "\n",
    "# Swap code\n",
    "x ^= y # x = 1111, y = 1010\n",
    "y ^= x # y = 0101, x = 1111\n",
    "x ^= y # x = 1010, y = 0101\n",
    "\n",
    "print (\"After swapping: \")\n",
    "print(\"Value of x : \", x, \" and y : \", y)\n"
   ]
  },
  {
   "cell_type": "code",
   "execution_count": 24,
   "id": "bfdf0204",
   "metadata": {},
   "outputs": [
    {
     "name": "stdout",
     "output_type": "stream",
     "text": [
      "Before swapping: \n",
      "Value of x :  5  and y :  10\n",
      "After swapping: \n",
      "Value of x :  10  and y :  5\n"
     ]
    }
   ],
   "source": [
    "# python program to swap two numbers\n",
    "# using bitwise and addition operators for swapping\n",
    "\n",
    "\n",
    "x = 5;\n",
    "y = 10;\n",
    "\n",
    "print (\"Before swapping: \") ;\n",
    "print(\"Value of x : \", x, \" and y : \", y) ;\n",
    "\n",
    "# same as x = x + y\n",
    "x = (x & y) + (x|y) ;\n",
    "\n",
    "#vsame as y = x - y\n",
    "y = x + (~y) + 1 ;\n",
    "\n",
    "# same as x = x - y\n",
    "x = x + (~y) + 1 ;\n",
    "\n",
    "print (\"After swapping: \")\n",
    "print(\"Value of x : \", x, \" and y : \", y)\n",
    "\n",
    "# This code is contributed by bunnyram19\n"
   ]
  },
  {
   "cell_type": "code",
   "execution_count": 44,
   "id": "3d767473",
   "metadata": {},
   "outputs": [
    {
     "name": "stdout",
     "output_type": "stream",
     "text": [
      "sum of first  20 even number is:  420\n"
     ]
    }
   ],
   "source": [
    "# Python3 implementation to find sum of\n",
    "# first n even numbers\n",
    "\n",
    "# function to find sum of\n",
    "# first n even numbers\n",
    "def evensum(n):\n",
    "    curr = 2\n",
    "    sum = 0\n",
    "    i = 1\n",
    "    \n",
    "    # sum of first n even numbers\n",
    "    while i <= n:\n",
    "        sum += curr\n",
    "        # next even number\n",
    "        curr += 2\n",
    "        i = i + 1\n",
    "    return sum\n",
    "\n",
    "# Driver Code\n",
    "n = 20\n",
    "print(\"sum of first \", n, \"even number is: \",\n",
    "    evensum(n))\n"
   ]
  },
  {
   "cell_type": "code",
   "execution_count": 45,
   "id": "83a71ea6",
   "metadata": {},
   "outputs": [
    {
     "name": "stdout",
     "output_type": "stream",
     "text": [
      "sum of first 20 even number is:  420\n"
     ]
    }
   ],
   "source": [
    "# Python3 implementation to find\n",
    "# sum of first n even numbers efficient approach\n",
    "\n",
    "# function to find sum of\n",
    "# first n even numbers\n",
    "def evensum(n):\n",
    "    return n * (n + 1)\n",
    "\n",
    "# Driver Code\n",
    "n = 20\n",
    "print(\"sum of first\", n, \"even number is: \",\n",
    "    evensum(n))"
   ]
  },
  {
   "cell_type": "code",
   "execution_count": 27,
   "id": "6358ad1e",
   "metadata": {},
   "outputs": [
    {
     "name": "stdout",
     "output_type": "stream",
     "text": [
      "The sum is 136\n"
     ]
    }
   ],
   "source": [
    "# Sum of natural numbers up to num\n",
    "\n",
    "num = 16\n",
    "\n",
    "if num < 0:\n",
    "   print(\"Enter a positive number\")\n",
    "else:\n",
    "   sum = 0\n",
    "   # use while loop to iterate until zero\n",
    "   while(num > 0):\n",
    "       sum += num\n",
    "       num -= 1\n",
    "   print(\"The sum is\", sum)\n"
   ]
  },
  {
   "cell_type": "code",
   "execution_count": 28,
   "id": "56efc3b3",
   "metadata": {},
   "outputs": [
    {
     "name": "stdout",
     "output_type": "stream",
     "text": [
      "December 07, 2022\n",
      "newline: 10\n"
     ]
    }
   ],
   "source": [
    "# Prints today's date with help\n",
    "# of datetime library and f string example\n",
    "import datetime\n",
    "\n",
    "today = datetime.datetime.today()\n",
    "print(f\"{today:%B %d, %Y}\")\n",
    "\n",
    "newline = ord('\\n')\n",
    "print(f\"newline: {newline}\")\n"
   ]
  },
  {
   "cell_type": "code",
   "execution_count": 35,
   "id": "283da961",
   "metadata": {},
   "outputs": [
    {
     "name": "stdout",
     "output_type": "stream",
     "text": [
      "GeeksforGeeks is a portal for Geeks.\n",
      "Hello, My name is Tushar and 10 I'm 23 years old.\n",
      "but why is newline giving value 10 above , It should change to newline?\n",
      "Hello all!! \n",
      "I am Pythoner \n",
      "Welcome to the AskPython Tutorial\n",
      "List before adding newline character to it: ['Python', 'Java', 'Kotlin', 'Cpp']\n",
      "List after adding newline character to it:\n",
      " Python\n",
      "Java\n",
      "Kotlin\n",
      "Cpp\n"
     ]
    }
   ],
   "source": [
    "# Python3 program introducing f-string\n",
    "val = 'Geeks'\n",
    "print(f\"{val}for{val} is a portal for {val}.\")\n",
    "\n",
    "name = 'Tushar'\n",
    "age = 23\n",
    "# newline\n",
    "print(f\"Hello, My name is {name} and {newline} I'm {age} years old.\")\n",
    "print('but why is newline giving value 10 above , It should change to newline?')\n",
    "\n",
    "# Python3 program introducing newline = \\n\n",
    "\n",
    "str='''Hello all!! \\nI am Pythoner \\nWelcome to the AskPython Tutorial'''\n",
    "print(str)\n",
    "lst = ['Python','Java','Kotlin','Cpp']\n",
    "print(\"List before adding newline character to it:\",lst)\n",
    "lst = '\\n'.join(lst)\n",
    "print(\"List after adding newline character to it:\\n\",lst)"
   ]
  },
  {
   "cell_type": "code",
   "execution_count": 40,
   "id": "4faf1b7b",
   "metadata": {},
   "outputs": [
    {
     "name": "stdout",
     "output_type": "stream",
     "text": [
      "* \r\n",
      "* * \r\n",
      "* * * \r\n",
      "* * * * \r\n",
      "* * * * * \r\n"
     ]
    }
   ],
   "source": [
    "# Python 3.x code to demonstrate star pattern\n",
    "\n",
    "# Function to demonstrate printing pattern\n",
    "def pypart(n):\n",
    "    \n",
    "    # outer loop to handle number of rows\n",
    "    # n in this case\n",
    "    for i in range(0, n):\n",
    "\n",
    "        # inner loop to handle number of columns\n",
    "        # values changing acc. to outer loop\n",
    "        for j in range(0, i+1):\n",
    "            \n",
    "            # printing stars\n",
    "            print(\"* \",end=\"\")\n",
    "    \n",
    "        # ending line after each row\n",
    "        print(\"\\r\")\n",
    "\n",
    "# Driver Code\n",
    "n = 5\n",
    "pypart(n)\n"
   ]
  },
  {
   "cell_type": "code",
   "execution_count": 37,
   "id": "dc911bd8",
   "metadata": {},
   "outputs": [
    {
     "name": "stdout",
     "output_type": "stream",
     "text": [
      "*\n",
      "**\n",
      "***\n",
      "****\n",
      "*****\n"
     ]
    }
   ],
   "source": [
    "# Python 3.x code to demonstrate star pattern\n",
    "# using simpler list method\n",
    "\n",
    "# Function to demonstrate printing pattern\n",
    "def pypart(n):\n",
    "    myList = []\n",
    "    for i in range(1,n+1):\n",
    "        myList.append(\"*\"*i)\n",
    "    print(\"\\n\".join(myList))\n",
    "\n",
    "# Driver Code\n",
    "n = 5\n",
    "pypart(n)\n"
   ]
  },
  {
   "cell_type": "code",
   "execution_count": 6,
   "id": "c51fc19b",
   "metadata": {},
   "outputs": [
    {
     "name": "stdout",
     "output_type": "stream",
     "text": [
      "* \n",
      "* * \n",
      "* * * \n",
      "* * * * \n",
      "* * * * * \n"
     ]
    }
   ],
   "source": [
    "#python3 code to print pyramid pattern using recursion\n",
    "\n",
    "def pypart(n):\n",
    "    if n==0:\n",
    "        return\n",
    "    else:pypart(n-1)\n",
    "    print(\"* \"*n)\n",
    "\n",
    "# Driver Code\n",
    "n = 5\n",
    "pypart(n)\n",
    "#this code is contributed by Shivesh Kumar Dwivedi\n"
   ]
  },
  {
   "cell_type": "code",
   "execution_count": 39,
   "id": "36a93741",
   "metadata": {},
   "outputs": [
    {
     "name": "stdout",
     "output_type": "stream",
     "text": [
      "* \r\n",
      "* * \r\n",
      "* * * \r\n",
      "* * * * \r\n",
      "* * * * * \r\n"
     ]
    }
   ],
   "source": [
    "# python3 code to print pyramid pattern using while loop\n",
    "\n",
    "# input\n",
    "n=5\n",
    "\n",
    "i=1;j=0\n",
    "# while loop check the condition until the\n",
    "# condition become false. if it is true then\n",
    "# enter in to loop and print the pattern\n",
    "while(i<=n):\n",
    "    while(j<=i-1):\n",
    "        print(\"* \",end=\"\")\n",
    "        j+=1\n",
    "    # printing next line for each row\n",
    "    print(\"\\r\")\n",
    "    j=0;i+=1"
   ]
  },
  {
   "cell_type": "code",
   "execution_count": 50,
   "id": "c041d65a",
   "metadata": {},
   "outputs": [
    {
     "name": "stdout",
     "output_type": "stream",
     "text": [
      "Yes! it is present in the string\n"
     ]
    }
   ],
   "source": [
    "#Take a string and substring and check if substring is in string or not\n",
    "# Take input from users\n",
    "MyString1 = \"A geek in need is a geek indeed\"\n",
    "\n",
    "if \"need\" in MyString1:\n",
    "    print(\"Yes! it is present in the string\")\n",
    "else:\n",
    "    print(\"No! it is not present\")\n"
   ]
  },
  {
   "cell_type": "code",
   "execution_count": 51,
   "id": "ea5e409f",
   "metadata": {},
   "outputs": [
    {
     "name": "stdout",
     "output_type": "stream",
     "text": [
      "yes\n"
     ]
    }
   ],
   "source": [
    "# Take a string and substring and check if substring is in string or not\n",
    "# using split() method\n",
    "# Python code\n",
    "# To check if a substring is present in a given string or not\n",
    "\n",
    "# input strings str1 and substr\n",
    "string = \"geeks for geeks\" # or string=input() -> taking input from the user\n",
    "substring = \"geeks\" # or substring=input()\n",
    "\n",
    "# splitting words in a given string\n",
    "s = string.split()\n",
    "\n",
    "# checking condition\n",
    "# if substring is present in the given string then it gives output as yes\n",
    "if substring in s:\n",
    "    print(\"yes\")\n",
    "else:\n",
    "    print(\"no\")\n"
   ]
  },
  {
   "cell_type": "code",
   "execution_count": 52,
   "id": "077b46e2",
   "metadata": {},
   "outputs": [
    {
     "name": "stdout",
     "output_type": "stream",
     "text": [
      "Yes! Geeks-13 is containing.\n",
      "Yes! Geeks-78 is containing.\n",
      "['yes']\n",
      "['yes']\n"
     ]
    }
   ],
   "source": [
    "#Check substring using the “__contains__” magic class.\n",
    "\n",
    "a = ['Geeks-13', 'for-56', 'Geeks-78', 'xyz-46']\n",
    "for i in a:\n",
    "    if i.__contains__(\"Geeks\"):\n",
    "        print(f\"Yes! {i} is containing.\")\n",
    "\n",
    "# using list comprehension        \n",
    "        \n",
    "s=\"geeks for geeks\"\n",
    "s2=\"geeks\"\n",
    "print([\"yes\" if s2 in s else \"no\"])\n",
    "\n",
    "# using lambda function\n",
    "\n",
    "s=\"geeks for geeks\"\n",
    "s2=\"geeks\"\n",
    "x=list(filter(lambda x: (s2 in s),s.split()))\n",
    "print([\"yes\" if x else \"no\"])\n",
    "\n"
   ]
  },
  {
   "cell_type": "code",
   "execution_count": 2,
   "id": "2ec3baf2",
   "metadata": {},
   "outputs": [
    {
     "name": "stdout",
     "output_type": "stream",
     "text": [
      "Yes\n",
      "Yes\n",
      "Yes\n",
      "Yes\n"
     ]
    }
   ],
   "source": [
    "# function which return reverse of a string\n",
    "# String \"Palindrome\" or not\n",
    "\n",
    "def isPalindrome(s):\n",
    "    return s == s[::-1]\n",
    "\n",
    "\n",
    "# Driver code\n",
    "s = \"malayalam\"\n",
    "ans = isPalindrome(s)\n",
    "\n",
    "if ans:\n",
    "    print(\"Yes\")\n",
    "else:\n",
    "    print(\"No\")\n",
    "\n",
    "# method 2 using reverse \n",
    "\n",
    "# function to check string is\n",
    "# palindrome or not\n",
    "def isPalindrome(s):\n",
    "\n",
    "    # Using predefined function to\n",
    "    # reverse to string print(s)\n",
    "    rev = ''.join(reversed(s))\n",
    "\n",
    "    # Checking if both string are\n",
    "    # equal or not\n",
    "    if (s == rev):\n",
    "        return True\n",
    "    return False\n",
    "\n",
    "# main function\n",
    "s = \"malayalam\"\n",
    "ans = isPalindrome(s)\n",
    "\n",
    "if (ans):\n",
    "    print(\"Yes\")\n",
    "else:\n",
    "    print(\"No\")\n",
    "\n",
    "\n",
    "# method 3 using one extra variable\n",
    "\n",
    "# Python program to check\n",
    "# if a string is palindrome\n",
    "# or not\n",
    "\n",
    "x = \"malayalam\"\n",
    "\n",
    "w = \"\"\n",
    "for i in x:\n",
    "    w = i + w\n",
    "\n",
    "if (x == w):\n",
    "    print(\"Yes\")\n",
    "else:\n",
    "    print(\"No\")\n",
    "    \n",
    "# method 4 using flag variable\n",
    "\n",
    "# Python program to check\n",
    "# if a string is palindrome\n",
    "# or not\n",
    "st = 'malayalam'\n",
    "j = -1\n",
    "flag = 0\n",
    "for i in st:\n",
    "    if i != st[j]:\n",
    "        flag = 1\n",
    "        break\n",
    "    j = j - 1\n",
    "if flag == 1:\n",
    "    print(\"NO\")\n",
    "else:\n",
    "    print(\"Yes\")\n"
   ]
  },
  {
   "cell_type": "code",
   "execution_count": 3,
   "id": "131d8eac",
   "metadata": {},
   "outputs": [
    {
     "name": "stdout",
     "output_type": "stream",
     "text": [
      "The original string is : Geeksforgeeks\n",
      "The reversed string(using loops) is : skeegrofskeeG\n",
      "The original string is : Geeksforgeeks\n",
      "The reversed string(using recursion) is : skeegrofskeeG\n",
      "The original string is : Geeksforgeeks\n",
      "The reversed string(using reversed) is : skeegrofskeeG\n"
     ]
    }
   ],
   "source": [
    "def reverse(s):\n",
    "    str = \"\"\n",
    "    for i in s:\n",
    "        str = i + str\n",
    "    return str\n",
    "\n",
    "s = \"Geeksforgeeks\"\n",
    "\n",
    "print(\"The original string is : \", end=\"\")\n",
    "print(s)\n",
    "\n",
    "print(\"The reversed string(using loops) is : \", end=\"\")\n",
    "print(reverse(s))\n",
    "\n",
    "\n",
    "# using recursion\n",
    "\n",
    "def reverse(s):\n",
    "    if len(s) == 0:\n",
    "        return s\n",
    "    else:\n",
    "        return reverse(s[1:]) + s[0]\n",
    "\n",
    "\n",
    "s = \"Geeksforgeeks\"\n",
    "\n",
    "print(\"The original string is : \", end=\"\")\n",
    "print(s)\n",
    "\n",
    "print(\"The reversed string(using recursion) is : \", end=\"\")\n",
    "print(reverse(s))\n",
    "\n",
    "\n",
    "# using reversed() method\n",
    "\n",
    "# Python code to reverse a string\n",
    "# using reversed()\n",
    "\n",
    "# Function to reverse a string\n",
    "def reverse(string):\n",
    "    string = \"\".join(reversed(string))\n",
    "    return string\n",
    "\n",
    "s = \"Geeksforgeeks\"\n",
    "\n",
    "print(\"The original string is : \", end=\"\")\n",
    "print(s)\n",
    "\n",
    "print(\"The reversed string(using reversed) is : \", end=\"\")\n",
    "print(reverse(s))\n"
   ]
  },
  {
   "cell_type": "code",
   "execution_count": 4,
   "id": "2abadcfd",
   "metadata": {},
   "outputs": [
    {
     "name": "stdout",
     "output_type": "stream",
     "text": [
      "an\n"
     ]
    }
   ],
   "source": [
    "# print last n characters of a string\n",
    "\n",
    "str = \"Aman\"\n",
    "\n",
    "lastn = str[-2:] # getting the last 2 characters\n",
    "print(lastn)"
   ]
  },
  {
   "cell_type": "code",
   "execution_count": 9,
   "id": "6c0b13fb",
   "metadata": {},
   "outputs": [
    {
     "name": "stdout",
     "output_type": "stream",
     "text": [
      "Python is great and Java also\n",
      "Java great also Python is and\n"
     ]
    }
   ],
   "source": [
    "# Program without using any external library\n",
    "# remove duplicate words from a string\n",
    "\n",
    "s = \"Python is great and Java is also great\"\n",
    "l = s.split()\n",
    "k = []\n",
    "for i in l:\n",
    "\n",
    "\t# If condition is used to store unique string\n",
    "\t# in another list 'k'\n",
    "\tif (s.count(i)>=1 and (i not in k)):\n",
    "\t\tk.append(i)\n",
    "print(' '.join(k))\n",
    "\n",
    "# using set as sets dont have duplicate elements\n",
    "\n",
    "string = 'Python is great and Java is also great'\n",
    "print(' '.join(set(string.split())))\n"
   ]
  },
  {
   "cell_type": "code",
   "execution_count": 11,
   "id": "cae3a8b3",
   "metadata": {},
   "outputs": [
    {
     "name": "stdout",
     "output_type": "stream",
     "text": [
      "Please enter the Total Number of List Elements: 5\n",
      "Please enter the Value of 1 Element : 1\n",
      "Please enter the Value of 2 Element : 2\n",
      "Please enter the Value of 3 Element : 3\n",
      "Please enter the Value of 4 Element : 4\n",
      "Please enter the Value of 5 Element : 5\n",
      "\n",
      "The Sum of Even Numbers in this List =   6\n",
      "The Sum of Odd Numbers in this List =   9\n",
      "and the Odd elements are : \n",
      " [1, 3, 5]\n",
      "and the even elements are : \n",
      " [2, 4]\n"
     ]
    }
   ],
   "source": [
    "# Python Program to find Sum of Even and Odd Numbers in a List\n",
    "\n",
    "NumList = []\n",
    "Even_Sum = 0\n",
    "Odd_Sum = 0\n",
    "even_elem = []\n",
    "odd_elem = []\n",
    "\n",
    "Number = int(input(\"Please enter the Total Number of List Elements: \"))\n",
    "for i in range(1, Number + 1):\n",
    "    value = int(input(\"Please enter the Value of %d Element : \" %i))\n",
    "    NumList.append(value)  # append is a method in python search google for more\n",
    "\n",
    "for j in range(Number):\n",
    "    if(NumList[j] % 2 == 0):\n",
    "        Even_Sum = Even_Sum + NumList[j]\n",
    "        even_elem.append(NumList[j])\n",
    "    else:\n",
    "        Odd_Sum = Odd_Sum + NumList[j]\n",
    "        odd_elem.append(NumList[j])\n",
    "\n",
    "print(\"\\nThe Sum of Even Numbers in this List =  \", Even_Sum)\n",
    "print(\"The Sum of Odd Numbers in this List =  \", Odd_Sum)\n",
    "print(\"and the Odd elements are : \\n\", odd_elem)\n",
    "print(\"and the even elements are : \\n\", even_elem)"
   ]
  },
  {
   "cell_type": "code",
   "execution_count": null,
   "id": "9cab7978",
   "metadata": {},
   "outputs": [],
   "source": []
  },
  {
   "cell_type": "code",
   "execution_count": null,
   "id": "6f5c0457",
   "metadata": {},
   "outputs": [],
   "source": []
  }
 ],
 "metadata": {
  "kernelspec": {
   "display_name": "Python 3 (ipykernel)",
   "language": "python",
   "name": "python3"
  },
  "language_info": {
   "codemirror_mode": {
    "name": "ipython",
    "version": 3
   },
   "file_extension": ".py",
   "mimetype": "text/x-python",
   "name": "python",
   "nbconvert_exporter": "python",
   "pygments_lexer": "ipython3",
   "version": "3.10.7"
  }
 },
 "nbformat": 4,
 "nbformat_minor": 5
}
