{
 "cells": [
  {
   "cell_type": "code",
   "execution_count": 1,
   "metadata": {},
   "outputs": [],
   "source": [
    "## This practice is designed for Indexing, Slicing and Iterating\n",
    "import numpy as np"
   ]
  },
  {
   "cell_type": "code",
   "execution_count": 2,
   "metadata": {},
   "outputs": [
    {
     "name": "stdout",
     "output_type": "stream",
     "text": [
      "a=> [ 0  1  4  9 16 25 36 49 64 81]\n",
      "\n",
      "a[2:5]=> [ 4  9 16]\n",
      "\n",
      "a[3:8:4]=> [   0    1    4 9999   16   25   36 9999   64   81]\n",
      "\n",
      "a[:,:,-1])=> [81 64 49 36 25 16  9  4  1  0]\n",
      "\n",
      "a**(1/2)=> 0.0\n",
      "a**(1/2)=> 1.0\n",
      "a**(1/2)=> 2.0\n",
      "a**(1/2)=> 3.0\n",
      "a**(1/2)=> 4.0\n",
      "a**(1/2)=> 5.0\n",
      "a**(1/2)=> 6.0\n",
      "a**(1/2)=> 7.0\n",
      "a**(1/2)=> 8.0\n",
      "a**(1/2)=> 9.0\n"
     ]
    }
   ],
   "source": [
    "### Indexing, Slicing and Iterating\n",
    "# Only one dimensional array can be indexed, sliced and iterated over.\n",
    "# 只有一維陣列可以被 indexed, sliced, iterated over\n",
    "\n",
    "# Sliced matrix.\n",
    "# x[start index: stop before this index: interval]\n",
    "# 矩陣切片\n",
    "# x[起始索引:停止在此索引之前:間隔]\n",
    "a = np.arange(10) ** 2\n",
    "print(\"a=> {0}\".format(a))\n",
    "print()\n",
    "print(\"a[2:5]=> {0}\".format(a[2:5]))\n",
    "print()\n",
    "\n",
    "# sliced\n",
    "# 從index為3起算,每數到4的元素值都改為9999,直到第8個元素(index為7)為止\n",
    "a[3:8:4] = 9999\n",
    "print(\"a[3:8:4]=> {0}\".format(a))\n",
    "\n",
    "print()\n",
    "a = np.arange(10) ** 2\n",
    "# reversed\n",
    "# 倒序\n",
    "print(\"a[:,:,-1])=> {0}\".format(a[::-1]))\n",
    "print()\n",
    "\n",
    "# Iteracted over\n",
    "for i in a:\n",
    "    print(\"a**(1/2)=> {0}\".format(np.round(i**(1/2), 0)))"
   ]
  },
  {
   "cell_type": "code",
   "execution_count": 3,
   "metadata": {},
   "outputs": [
    {
     "name": "stdout",
     "output_type": "stream",
     "text": [
      "[[ 0  1  2  3  4]\n",
      " [ 5  6  7  8  9]\n",
      " [10 11 12 13 14]\n",
      " [15 16 17 18 19]\n",
      " [20 21 22 23 24]]\n",
      "\n",
      "[ 4  9 14 19 24]\n",
      "\n",
      "[ 4  9 14 19 24]\n"
     ]
    }
   ],
   "source": [
    "## Form function\n",
    "def my_f(row, col):\n",
    "    return row*5 + col\n",
    "\n",
    "b = np.fromfunction(my_f, (5, 5), dtype=int)\n",
    "print(b)\n",
    "\n",
    "print()\n",
    "print(b[0:5, 4])\n",
    "\n",
    "print()\n",
    "print(b[:, 4])"
   ]
  },
  {
   "cell_type": "code",
   "execution_count": 4,
   "metadata": {},
   "outputs": [
    {
     "name": "stdout",
     "output_type": "stream",
     "text": [
      "\n",
      "[1 2 3 4 5 6 7 8]\n",
      "[ 9 10 11 12 13 14 15 16]\n",
      "[17 18 19 20 21 22 23 24]\n",
      "[25 26 27 28 29 30 31 32]\n",
      "[33 34 35 36 37 38 39 40]\n"
     ]
    }
   ],
   "source": [
    "# 多維陣列在for loop中取值時，會以第一維度為優先！\n",
    "# 以二維陣列為例：一層for loop優先獲取的陣列內容，就是第一維度每row的內容\n",
    "b = np.arange(1, 41).reshape(5, 8)\n",
    "\n",
    "print()\n",
    "# for loop\n",
    "for row in b:\n",
    "    print(row)"
   ]
  },
  {
   "cell_type": "code",
   "execution_count": 5,
   "metadata": {},
   "outputs": [
    {
     "name": "stdout",
     "output_type": "stream",
     "text": [
      "1\n",
      "2\n",
      "3\n",
      "4\n",
      "5\n",
      "6\n",
      "7\n",
      "8\n",
      "9\n",
      "10\n",
      "11\n",
      "12\n"
     ]
    }
   ],
   "source": [
    "# 直接將矩陣內所有元素扁平化，依序取出所有元素！此功能必須搭配for-loop, while-loop使用\n",
    "# flat\n",
    "b = np.arange(1, 13).reshape(3, 4)\n",
    "for element in b.flat:\n",
    "    print(element)"
   ]
  },
  {
   "cell_type": "code",
   "execution_count": null,
   "metadata": {},
   "outputs": [],
   "source": []
  }
 ],
 "metadata": {
  "kernelspec": {
   "display_name": "Python 3",
   "language": "python",
   "name": "python3"
  },
  "language_info": {
   "codemirror_mode": {
    "name": "ipython",
    "version": 3
   },
   "file_extension": ".py",
   "mimetype": "text/x-python",
   "name": "python",
   "nbconvert_exporter": "python",
   "pygments_lexer": "ipython3",
   "version": "3.5.5"
  }
 },
 "nbformat": 4,
 "nbformat_minor": 2
}
