{
 "cells": [
  {
   "cell_type": "code",
   "execution_count": 15,
   "metadata": {},
   "outputs": [],
   "source": [
    "# This practice is designed for \"Basic Operations\".\n",
    "import numpy as np"
   ]
  },
  {
   "cell_type": "code",
   "execution_count": 16,
   "metadata": {},
   "outputs": [
    {
     "name": "stdout",
     "output_type": "stream",
     "text": [
      "維度相同的矩陣相加、減:\n",
      "a=>[6 7 8 9]\n",
      "b=>[0 1 2 3]\n",
      "c=>[6 6 6 6]\n",
      "\n",
      "同加、同減一個數值:\n",
      "a=>[11 12 13 14]\n",
      "b=>[-5 -4 -3 -2]\n",
      "\n",
      "次方：\n",
      "d=>[25 16  9  4]\n"
     ]
    }
   ],
   "source": [
    "print('維度相同的矩陣相加、減:')\n",
    "# 維度相同的矩陣相加、減\n",
    "a = np.array( [6, 7, 8, 9] )\n",
    "b = np.arange( 4 )\n",
    "c = a - b\n",
    "print(\"a=>{0}\".format(a))\n",
    "print(\"b=>{0}\".format(b))\n",
    "print(\"c=>{0}\".format(c))\n",
    "\n",
    "\n",
    "print('\\n同加、同減一個數值:')\n",
    "# 同加、同減一個數值\n",
    "a += 5\n",
    "print(\"a=>{0}\".format(a))\n",
    "b -= 5\n",
    "print(\"b=>{0}\".format(b))\n",
    "\n",
    "\n",
    "print('\\n次方：')\n",
    "# d是b的2次方\n",
    "# d is squared of b.\n",
    "d = b**2\n",
    "print(\"d=>{0}\".format(d))"
   ]
  },
  {
   "cell_type": "code",
   "execution_count": 17,
   "metadata": {},
   "outputs": [
    {
     "name": "stdout",
     "output_type": "stream",
     "text": [
      "a=>[0 1 2 3 4]\n",
      "b=>[10  9  8  7  6]\n",
      "\n",
      "同除:\n",
      "c=>[0.  0.5 1.  1.5 2. ]\n",
      "\n",
      "同乘:\n",
      "d=>[10  9  8  7  6]\n"
     ]
    }
   ],
   "source": [
    "a = np.arange(5)\n",
    "b = np.arange(10, 5, -1)\n",
    "print(\"a=>{0}\".format(a))\n",
    "print(\"b=>{0}\".format(b))\n",
    "print(\"\\n同除:\")\n",
    "# c等於a同除以2\n",
    "c = a / 2\n",
    "print(\"c=>{0}\".format(c))\n",
    "\n",
    "print(\"\\n同乘:\")\n",
    "# d等於b同乘以2\n",
    "d = b * 2\n",
    "print(\"d=>{0}\".format(b))"
   ]
  },
  {
   "cell_type": "code",
   "execution_count": 18,
   "metadata": {},
   "outputs": [
    {
     "name": "stdout",
     "output_type": "stream",
     "text": [
      "A, B相乘(矩陣乘法) =>\n",
      "[[19 22]\n",
      " [43 50]]\n",
      "\n",
      "A, B相對應位置相乘=>\n",
      "[[ 5 12]\n",
      " [21 32]]\n"
     ]
    }
   ],
   "source": [
    "# 矩陣相乘\n",
    "A = np.array([[1, 2], [3, 4]])\n",
    "B = np.array([[5, 6], [7, 8]])\n",
    "print(\"A, B相乘(矩陣乘法) =>\\n{0}\".format(A.dot(B)))\n",
    "print()\n",
    "print(\"A, B相對應位置相乘=>\\n{0}\".format(A*B))"
   ]
  },
  {
   "cell_type": "code",
   "execution_count": 19,
   "metadata": {
    "scrolled": true
   },
   "outputs": [
    {
     "name": "stdout",
     "output_type": "stream",
     "text": [
      "陣列e裡面哪幾個位置的元素值小於等於零?:[False  True False False  True]\n",
      "把小於等於0的元素取代成1=>[5 1 3 9 1]\n"
     ]
    }
   ],
   "source": [
    "# 印出陣列中小於等於0的元素\n",
    "e = np.array([5, -1, 3, 9, 0])\n",
    "print(\"陣列e裡面哪幾個位置的元素值小於等於零?:{0}\".format(e<=0))\n",
    "\n",
    "# 把小於等於0的元素取代成1\n",
    "e[e<=0] = 1\n",
    "print(\"把小於等於0的元素取代成1=>{0}\".format(e))"
   ]
  },
  {
   "cell_type": "code",
   "execution_count": 20,
   "metadata": {},
   "outputs": [
    {
     "name": "stdout",
     "output_type": "stream",
     "text": [
      "a=>\n",
      "[[5. 5. 5.]\n",
      " [5. 5. 5.]]\n",
      "b=>\n",
      "[[5.72531846 5.56334825 5.01618382]\n",
      " [5.19603197 5.57285526 5.70528792]]\n",
      "a=>\n",
      "[[10.72531846 10.56334825 10.01618382]\n",
      " [10.19603197 10.57285526 10.70528792]]\n"
     ]
    }
   ],
   "source": [
    "## Operations: += *=\n",
    "a = np.ones((2, 3), dtype=np.float)\n",
    "b = np.random.random( (2,3) )\n",
    "a *= 5\n",
    "print(\"a=>\\n{0}\".format(a))\n",
    "b += a\n",
    "\n",
    "print(\"b=>\\n{0}\".format(b))\n",
    "\n",
    "\n",
    "a += b\n",
    "print(\"a=>\\n{0}\".format(a))"
   ]
  },
  {
   "cell_type": "code",
   "execution_count": 21,
   "metadata": {},
   "outputs": [
    {
     "name": "stdout",
     "output_type": "stream",
     "text": [
      "a=>\n",
      "[[5 5 5]\n",
      " [5 5 5]]\n",
      "b=>\n",
      "[[5.03566471 5.51034935 5.64901554]\n",
      " [5.39860411 5.97754978 5.51620688]]\n"
     ]
    }
   ],
   "source": [
    "## Operations: += *=\n",
    "a = np.ones((2, 3), dtype=np.int)\n",
    "b = np.random.random( (2,3) )\n",
    "a *= 5\n",
    "print(\"a=>\\n{0}\".format(a))\n",
    "b += a\n",
    "# float64 = float64 + int64\n",
    "print(\"b=>\\n{0}\".format(b))\n",
    "\n",
    "# int64 = int64 + float64\n",
    "# This will get errors! Because, the precision of int is shorter than float.\n",
    "# 這邊應該會出錯, 因為int64的長度比float64還要短.\n",
    "# a += b\n",
    "# print(\"a=>\\n{0}\".format(a))"
   ]
  },
  {
   "cell_type": "code",
   "execution_count": 22,
   "metadata": {},
   "outputs": [
    {
     "name": "stdout",
     "output_type": "stream",
     "text": [
      "sum=>5.122329871308706\n",
      "max=>0.9983574553837268\n",
      "min=>0.009791451172560972\n",
      "mean=>0.5691477634787451\n"
     ]
    }
   ],
   "source": [
    "## Methods: sum, min, max, mean\n",
    "a = np.random.random((3, 3))\n",
    "print(\"sum=>{0}\\nmax=>{1}\\nmin=>{2}\\nmean=>{3}\".format(a.sum(), a.max(), a.min(), a.mean()))"
   ]
  },
  {
   "cell_type": "code",
   "execution_count": 23,
   "metadata": {},
   "outputs": [
    {
     "name": "stdout",
     "output_type": "stream",
     "text": [
      "b=>\n",
      "[[ 0  1  2  3  4  5]\n",
      " [ 6  7  8  9 10 11]]\n",
      "\n",
      "b.sum(axis=0)=>[ 6  8 10 12 14 16]\n",
      "\n",
      "b.sum(axis=0)=>[15 51]\n",
      "\n",
      "revenu=>\n",
      "[[29. 26. 68. 50. 58. 31. 80.  8. 45. 36. 35. 41.]]\n",
      "\n",
      "Cumulative Sum of revenu=>\n",
      "[ 29.  55. 123. 173. 231. 262. 342. 350. 395. 431. 466. 507.]\n"
     ]
    }
   ],
   "source": [
    "b = np.arange(12).reshape(2, 6)\n",
    "print(\"b=>\\n{0}\".format(b))\n",
    "\n",
    "print()\n",
    "# 加總每一欄(column)\n",
    "print(\"b.sum(axis=0)=>{0}\".format(b.sum(axis=0)))\n",
    "\n",
    "print()\n",
    "# 加總每一列(row)\n",
    "print(\"b.sum(axis=0)=>{0}\".format(b.sum(axis=1)))\n",
    "\n",
    "print()\n",
    "revenu = np.round(np.random.random((1,12)) * 100, 0)\n",
    "print(\"revenu=>\\n{0}\".format(revenu))\n",
    "\n",
    "print()\n",
    "# 累計加總(每一項數值等於自己加上前一項)\n",
    "print(\"Cumulative Sum of revenu=>\\n{0}\".format(revenu.cumsum()))"
   ]
  },
  {
   "cell_type": "code",
   "execution_count": 26,
   "metadata": {},
   "outputs": [
    {
     "name": "stdout",
     "output_type": "stream",
     "text": [
      "B_exp=> [1.         2.71828183 7.3890561 ]\n",
      "B_sqrt=> [0.         1.         1.41421356]\n",
      "np.add(B, C)=> [2 2 2]\n"
     ]
    }
   ],
   "source": [
    "B = np.arange(3)\n",
    "# Exponential function\n",
    "# 自然函數運算\n",
    "B_exp = np.exp(B)\n",
    "print(\"B_exp=> {0}\".format(B_exp))\n",
    "\n",
    "# Square root of B\n",
    "# B的平方根\n",
    "B_sqrt = np.sqrt(B)\n",
    "print(\"B_sqrt=> {0}\".format(B_sqrt))\n",
    "\n",
    "# Array \"A\" pluses array \"B\".\n",
    "# 陣列A加上陣列B.\n",
    "C = np.array([2, 1, 0])\n",
    "print(\"np.add(B, C)=> {0}\".format(np.add(B, C)))"
   ]
  },
  {
   "cell_type": "code",
   "execution_count": null,
   "metadata": {},
   "outputs": [],
   "source": []
  }
 ],
 "metadata": {
  "kernelspec": {
   "display_name": "Python 3",
   "language": "python",
   "name": "python3"
  },
  "language_info": {
   "codemirror_mode": {
    "name": "ipython",
    "version": 3
   },
   "file_extension": ".py",
   "mimetype": "text/x-python",
   "name": "python",
   "nbconvert_exporter": "python",
   "pygments_lexer": "ipython3",
   "version": "3.5.5"
  }
 },
 "nbformat": 4,
 "nbformat_minor": 2
}
