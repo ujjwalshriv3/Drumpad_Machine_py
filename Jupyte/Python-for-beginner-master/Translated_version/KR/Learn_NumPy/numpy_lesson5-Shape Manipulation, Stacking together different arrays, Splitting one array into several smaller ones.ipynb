{
 "cells": [
  {
   "cell_type": "code",
   "execution_count": 1,
   "metadata": {},
   "outputs": [],
   "source": [
    "import numpy as np"
   ]
  },
  {
   "cell_type": "code",
   "execution_count": 2,
   "metadata": {},
   "outputs": [
    {
     "name": "stdout",
     "output_type": "stream",
     "text": [
      "a =>\n",
      " [[ 1  2  3  4  5  6  7  8  9 10]\n",
      " [11 12 13 14 15 16 17 18 19 20]\n",
      " [21 22 23 24 25 26 27 28 29 30]\n",
      " [31 32 33 34 35 36 37 38 39 40]\n",
      " [41 42 43 44 45 46 47 48 49 50]]\n",
      "a.shape: (5, 10)\n"
     ]
    }
   ],
   "source": [
    "##Shape Manipulation\n",
    "# 矩陣的形狀\n",
    "# the shape of matrix/array.\n",
    "a = np.arange(1, 51).reshape(5, 10)\n",
    "print(\"a =>\\n\",format(a))\n",
    "print(\"a.shape:\",format(a.shape))"
   ]
  },
  {
   "cell_type": "code",
   "execution_count": 3,
   "metadata": {},
   "outputs": [
    {
     "name": "stdout",
     "output_type": "stream",
     "text": [
      "a.reshape(5, 2, 5)=>\n",
      "[[[ 1  2  3  4  5]\n",
      "  [ 6  7  8  9 10]]\n",
      "\n",
      " [[11 12 13 14 15]\n",
      "  [16 17 18 19 20]]\n",
      "\n",
      " [[21 22 23 24 25]\n",
      "  [26 27 28 29 30]]\n",
      "\n",
      " [[31 32 33 34 35]\n",
      "  [36 37 38 39 40]]\n",
      "\n",
      " [[41 42 43 44 45]\n",
      "  [46 47 48 49 50]]]\n",
      "\n",
      "a.reshape(5, 2, -1)=>\n",
      "[[[ 1  2  3  4  5]\n",
      "  [ 6  7  8  9 10]]\n",
      "\n",
      " [[11 12 13 14 15]\n",
      "  [16 17 18 19 20]]\n",
      "\n",
      " [[21 22 23 24 25]\n",
      "  [26 27 28 29 30]]\n",
      "\n",
      " [[31 32 33 34 35]\n",
      "  [36 37 38 39 40]]\n",
      "\n",
      " [[41 42 43 44 45]\n",
      "  [46 47 48 49 50]]]\n"
     ]
    }
   ],
   "source": [
    "a = np.arange(1, 51).reshape(5, 10)\n",
    "# reshape(): 改變陣列的維度\n",
    "# reshape(): change the shape of array.\n",
    "print(\"a.reshape(5, 2, 5)=>\\n{0}\".format(a.reshape(5, 2, 5)))\n",
    "\n",
    "print()\n",
    "# reshape()可以使用-1的選項讓NumPy自動幫你計算維度大小\n",
    "# -1 is a option of reshape, that can automatically calcuate the other dimensions.\n",
    "print(\"a.reshape(5, 2, -1)=>\\n{0}\".format(a.reshape(5, 2, -1)))"
   ]
  },
  {
   "cell_type": "code",
   "execution_count": 4,
   "metadata": {},
   "outputs": [
    {
     "name": "stdout",
     "output_type": "stream",
     "text": [
      "a.ravel()=> [ 1  2  3  4  5  6  7  8  9 10 11 12 13 14 15 16 17 18 19 20 21 22 23 24\n",
      " 25 26 27 28 29 30 31 32 33 34 35 36 37 38 39 40 41 42 43 44 45 46 47 48\n",
      " 49 50]\n"
     ]
    }
   ],
   "source": [
    "# ravel(): 回傳一個陣列，這個陣列是經過扁平化處理的陣列\n",
    "# ravel(): returns an array that is flattened.\n",
    "a = np.arange(1, 51).reshape(5, 10)\n",
    "print(\"a.ravel()=> {0}\".format(a.ravel()))"
   ]
  },
  {
   "cell_type": "code",
   "execution_count": 5,
   "metadata": {},
   "outputs": [
    {
     "name": "stdout",
     "output_type": "stream",
     "text": [
      "b =>\n",
      "[[1 2 3]\n",
      " [4 5 6]]\n",
      "\n",
      "轉置矩陣b(Transpose b.)\n",
      "=>\n",
      "[[1 4]\n",
      " [2 5]\n",
      " [3 6]]\n"
     ]
    }
   ],
   "source": [
    "# T: 將陣列或矩陣轉置\n",
    "# T: Transpose an array or matrix.\n",
    "b = np.arange(1, 7).reshape(2, 3)\n",
    "print(\"b =>\\n{0}\".format(b))\n",
    "\n",
    "print()\n",
    "print(\"轉置矩陣b(Transpose b.)\\n=>\\n{0}\".format(b.T))"
   ]
  },
  {
   "cell_type": "code",
   "execution_count": 6,
   "metadata": {
    "scrolled": true
   },
   "outputs": [
    {
     "name": "stdout",
     "output_type": "stream",
     "text": [
      "a=>\n",
      "[[ 1  2  3  4  5]\n",
      " [ 6  7  8  9 10]]\n",
      "\n",
      "np.hstack((a,a))=>\n",
      "[[ 1  2  3  4  5  1  2  3  4  5]\n",
      " [ 6  7  8  9 10  6  7  8  9 10]]\n",
      "\n",
      "np.vstack((a,a))=>\n",
      "[[ 1  2  3  4  5]\n",
      " [ 6  7  8  9 10]\n",
      " [ 1  2  3  4  5]\n",
      " [ 6  7  8  9 10]]\n"
     ]
    }
   ],
   "source": [
    "##Stacking together different arrays\n",
    "# 將不同的矩陣堆疊在一起\n",
    "a = np.arange(1,11).reshape(2,5)\n",
    "print(\"a=>\\n{0}\".format(a))\n",
    "\n",
    "print()\n",
    "# Stacking 2 arrays along a horizontal axis.\n",
    "# 將2個陣列沿著水平軸堆疊起來\n",
    "print(\"np.hstack((a,a))=>\\n{0}\".format(np.hstack((a,a))))\n",
    "\n",
    "print()\n",
    "# Stacking 2 arrays along a vertical axis.\n",
    "# 將2個陣列沿著垂直軸堆疊起來\n",
    "print(\"np.vstack((a,a))=>\\n{0}\".format(np.vstack((a,a))))"
   ]
  },
  {
   "cell_type": "code",
   "execution_count": 9,
   "metadata": {},
   "outputs": [
    {
     "name": "stdout",
     "output_type": "stream",
     "text": [
      "a=>\n",
      "[[ 10  20  30  40  50  60]\n",
      " [ 70  80  90 100 110 120]]\n",
      "\n",
      "----hsplit----\n",
      "np.hsplit(a, 3) [0]=>\n",
      "[[10 20]\n",
      " [70 80]]\n",
      "np.hsplit(a, 3) [1]=>\n",
      "[[ 30  40]\n",
      " [ 90 100]]\n",
      "np.hsplit(a, 3) [2]=>\n",
      "[[ 50  60]\n",
      " [110 120]]\n",
      "Type of output1: <class 'list'>\n",
      "Shape of output1: (3, 2, 2)\n",
      "\n",
      "----vsplit----\n",
      "np.vsplit(a, 2) [0]=>[[10 20 30 40 50 60]]\n",
      "np.vsplit(a, 2) [1]=>[[ 70  80  90 100 110 120]]\n",
      "\n",
      "Type of output2: <class 'list'>\n",
      "Shape of output2: (2, 1, 6)\n"
     ]
    }
   ],
   "source": [
    "##Splitting one array into several smaller ones\n",
    "a = np.round(np.arange(1, 13).reshape(2, 6)*10, 0)\n",
    "print(\"a=>\\n{0}\".format(a))\n",
    "\n",
    "print()\n",
    "print(\"----hsplit----\")\n",
    "# hsplit(array, N): 沿著水平軸切成三個矩陣\n",
    "# hsplit(array, N): Split an array into N arries/matrices along its horizontal axis.\n",
    "output1 = np.hsplit(a, 3)\n",
    "i = 0\n",
    "for smallMatrix in output1:\n",
    "    print(\"np.hsplit(a, 3) [{0}]=>\\n{1}\".format(i, smallMatrix))\n",
    "    i+=1\n",
    "\n",
    "print(\"Type of output1: {0}\".format(type(output1)))\n",
    "newOutput1 = np.array(output1)\n",
    "print(\"Shape of output1: {0}\".format(newOutput1.shape))\n",
    "\n",
    "print()\n",
    "print(\"----vsplit----\")\n",
    "# vsplit(array, N): 沿著垂直軸切成三個矩陣\n",
    "# vsplit(array, N): Split an array into N arries/matrices along its vertical axis.\n",
    "output2 = np.vsplit(a, 2)\n",
    "i = 0\n",
    "for smallMatrix in output2:\n",
    "    print(\"np.vsplit(a, 2) [{0}]=>{1}\".format(i, smallMatrix))\n",
    "    i+=1\n",
    "print()\n",
    "print(\"Type of output2: {0}\".format(type(output2)))\n",
    "newOutput2 = np.array(output2)\n",
    "print(\"Shape of output2: {0}\".format(newOutput2.shape))"
   ]
  },
  {
   "cell_type": "code",
   "execution_count": null,
   "metadata": {},
   "outputs": [],
   "source": []
  }
 ],
 "metadata": {
  "kernelspec": {
   "display_name": "Python 3",
   "language": "python",
   "name": "python3"
  },
  "language_info": {
   "codemirror_mode": {
    "name": "ipython",
    "version": 3
   },
   "file_extension": ".py",
   "mimetype": "text/x-python",
   "name": "python",
   "nbconvert_exporter": "python",
   "pygments_lexer": "ipython3",
   "version": "3.5.5"
  }
 },
 "nbformat": 4,
 "nbformat_minor": 2
}
