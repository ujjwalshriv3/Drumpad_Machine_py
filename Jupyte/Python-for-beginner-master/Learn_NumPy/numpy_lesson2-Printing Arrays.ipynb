{
 "cells": [
  {
   "cell_type": "code",
   "execution_count": 1,
   "metadata": {},
   "outputs": [],
   "source": [
    "## This lesson is designed for \"Printing Arrays\"\n",
    "import numpy as np"
   ]
  },
  {
   "cell_type": "code",
   "execution_count": 2,
   "metadata": {},
   "outputs": [
    {
     "name": "stdout",
     "output_type": "stream",
     "text": [
      "[0 1 2 3 4 5]\n"
     ]
    }
   ],
   "source": [
    "# 1維\n",
    "a = np.arange(6)\n",
    "print(a)"
   ]
  },
  {
   "cell_type": "code",
   "execution_count": 3,
   "metadata": {},
   "outputs": [
    {
     "name": "stdout",
     "output_type": "stream",
     "text": [
      "[[ 0  1  2  3  4  5]\n",
      " [ 6  7  8  9 10 11]]\n"
     ]
    }
   ],
   "source": [
    "# 2維\n",
    "b = np.arange(12).reshape(2, 6)\n",
    "print(b)"
   ]
  },
  {
   "cell_type": "code",
   "execution_count": 4,
   "metadata": {},
   "outputs": [
    {
     "name": "stdout",
     "output_type": "stream",
     "text": [
      "[[[ 0  1  2]\n",
      "  [ 3  4  5]\n",
      "  [ 6  7  8]\n",
      "  [ 9 10 11]]\n",
      "\n",
      " [[12 13 14]\n",
      "  [15 16 17]\n",
      "  [18 19 20]\n",
      "  [21 22 23]]]\n"
     ]
    }
   ],
   "source": [
    "# 3維\n",
    "c = np.arange(24).reshape(2,4,3)\n",
    "print(c)"
   ]
  },
  {
   "cell_type": "code",
   "execution_count": 5,
   "metadata": {},
   "outputs": [
    {
     "name": "stdout",
     "output_type": "stream",
     "text": [
      "NumPy set_printoptions(threshold=20)\n",
      " [ 0  1  2  3  4  5  6  7  8  9 10 11 12 13 14 15 16 17 18 19]\n",
      "\n",
      "NumPy set_printoptions(threshold=15)\n",
      " [ 0  1  2 ... 17 18 19]\n"
     ]
    }
   ],
   "source": [
    "np.set_printoptions(precision=None, threshold=None, edgeitems=None, linewidth=None, suppress=None, nanstr=None, infstr=None, formatter=None, sign=None, floatmode=None)  # reset print options\n",
    "##threshold\n",
    "# 當要列印的陣列太大時，NumPy會自動以...代替一部分的內容，以減少篇幅！\n",
    "# 但是可以透過全域設定set_printoptions設定threshold(門檻值)，\n",
    "# 元素數量少於或等於門檻值的陣列就會全部列印出來，\n",
    "# 相反地，元素數量高於門檻值，列印時就會省略部分內容。\n",
    "# 陣列大小:20，門檻值20 => 陣列元素數量小於等於門檻值，應列印全部內容\n",
    "np.set_printoptions(threshold=20)\n",
    "print(\"NumPy set_printoptions(threshold=20)\\n\", np.arange(20))\n",
    "print()\n",
    "# 陣列大小:20，門檻值15 => 陣列元素數量大於門檻值，應省略部分內容\n",
    "np.set_printoptions(threshold=15)\n",
    "print(\"NumPy set_printoptions(threshold=15)\\n\", np.arange(20))"
   ]
  },
  {
   "cell_type": "code",
   "execution_count": 6,
   "metadata": {},
   "outputs": [
    {
     "name": "stdout",
     "output_type": "stream",
     "text": [
      "NumPy set_printoptions(precision=1)\n",
      " [3.  3.2 3.4 3.7 3.9 4.1 4.3 4.6 4.8 5. ]\n",
      "\n",
      "NumPy set_printoptions(precision=3)\n",
      " [3.    3.222 3.444 3.667 3.889 4.111 4.333 4.556 4.778 5.   ]\n"
     ]
    }
   ],
   "source": [
    "np.set_printoptions(precision=None, threshold=None, edgeitems=None, linewidth=None, suppress=None, nanstr=None, infstr=None, formatter=None, sign=None, floatmode=None)  # reset print options\n",
    "## precision:控制陣列內容微幅點數時的列印精度(小數位數)\n",
    "np.set_printoptions(precision=1)\n",
    "print(\"NumPy set_printoptions(precision=1)\\n\", np.linspace(3, 5, 10))\n",
    "print()\n",
    "np.set_printoptions(precision=3)\n",
    "print(\"NumPy set_printoptions(precision=3)\\n\", np.linspace(3, 5, 10))"
   ]
  },
  {
   "cell_type": "code",
   "execution_count": 7,
   "metadata": {},
   "outputs": [
    {
     "name": "stdout",
     "output_type": "stream",
     "text": [
      "NumPy set_printoptions(edgeitems=3)\n",
      " [ 0  1  2 ... 12 13 14]\n",
      "\n",
      "NumPy set_printoptions(edgeitems=5)\n",
      " [ 0  1  2  3  4 ... 10 11 12 13 14]\n"
     ]
    }
   ],
   "source": [
    "np.set_printoptions(precision=None, threshold=None, edgeitems=None, linewidth=None, suppress=None, nanstr=None, infstr=None, formatter=None, sign=None, floatmode=None)  # reset print options\n",
    "## edgeitems:當列印陣列時需要省略內容，edgeitems會決定要印出來的元素有幾個\n",
    "np.set_printoptions(threshold=10, edgeitems=3)\n",
    "print(\"NumPy set_printoptions(edgeitems=3)\\n\", np.arange(15))\n",
    "print()\n",
    "np.set_printoptions(threshold=10, edgeitems=5)\n",
    "print(\"NumPy set_printoptions(edgeitems=5)\\n\", np.arange(15))"
   ]
  },
  {
   "cell_type": "code",
   "execution_count": 8,
   "metadata": {},
   "outputs": [
    {
     "name": "stdout",
     "output_type": "stream",
     "text": [
      "NumPy set_printoptions(linewidth=10)\n",
      " [ 0  1  2\n",
      "  3  4\n",
      " ... 10\n",
      " 11 12 13\n",
      " 14]\n",
      "\n",
      "NumPy set_printoptions(linewidth=25)\n",
      " [ 0  1  2  3  4 ...\n",
      " 10 11 12 13 14]\n"
     ]
    }
   ],
   "source": [
    "np.set_printoptions(precision=None, threshold=None, edgeitems=None, linewidth=None, suppress=None, nanstr=None, infstr=None, formatter=None, sign=None, floatmode=None)  # reset print options\n",
    "## linewidth\n",
    "# 這只是單純決定列印陣列時每一行字的字元數上限，\n",
    "# 並不影響列印其他內容的每一行字元數上限！\n",
    "np.set_printoptions(linewidth=10)\n",
    "print(\"NumPy set_printoptions(linewidth=10)\\n\", np.arange(15))\n",
    "print()\n",
    "np.set_printoptions(linewidth=20)\n",
    "print(\"NumPy set_printoptions(linewidth=25)\\n\", np.arange(15))"
   ]
  },
  {
   "cell_type": "code",
   "execution_count": 9,
   "metadata": {},
   "outputs": [
    {
     "name": "stdout",
     "output_type": "stream",
     "text": [
      "NumPy set_printoptions(suppress=True)\n",
      " [0. 0. 0. 0. 0. ...\n",
      " 1. 1. 1. 1. 1.]\n",
      "\n",
      "NumPy set_printoptions(suppress=False)\n",
      " [0.e+00 1.e-05\n",
      " 2.e-05 3.e-05\n",
      " 4.e-05 ... 1.e+00\n",
      " 1.e+00 1.e+00\n",
      " 1.e+00 1.e+00]\n"
     ]
    }
   ],
   "source": [
    "np.set_printoptions(precision=None, threshold=None, edgeitems=None, linewidth=None, suppress=None, nanstr=None, infstr=None, formatter=None, sign=None, floatmode=None)  # reset print options\n",
    "# suppress\n",
    "# 其實這個我不太知道該怎麼解釋才夠完全，但我對這個功能的理解是用來“抑制顯示小數位數”，\n",
    "# 而預設值是False(代表不要抑制顯示小數位，就是通通給我顯示)\n",
    "np.set_printoptions(suppress=True)\n",
    "print(\"NumPy set_printoptions(suppress=True)\\n\", np.arange(0, 1, 0.00001))\n",
    "print()\n",
    "np.set_printoptions(suppress=False)\n",
    "print(\"NumPy set_printoptions(suppress=False)\\n\", np.arange(0, 1, 0.00001))"
   ]
  },
  {
   "cell_type": "code",
   "execution_count": 10,
   "metadata": {},
   "outputs": [
    {
     "name": "stdout",
     "output_type": "stream",
     "text": [
      "NumPy set_printoptions(nanstr=\"Oops!\")\n",
      " [Oops!    1. Oops!]\n"
     ]
    }
   ],
   "source": [
    "np.set_printoptions(precision=None, threshold=None, edgeitems=None, linewidth=None, suppress=None, nanstr=None, infstr=None, formatter=None, sign=None, floatmode=None)  # reset print options\n",
    "## nanstr\n",
    "# 當陣列元素值出現not-a-number時要顯示的內容為何\n",
    "np.set_printoptions(nanstr=\"Oops!\")\n",
    "a = np.array([np.nan, 1, np.nan], dtype=np.float16)\n",
    "print(\"NumPy set_printoptions(nanstr=\\\"Oops!\\\")\\n\", a)"
   ]
  },
  {
   "cell_type": "code",
   "execution_count": 11,
   "metadata": {},
   "outputs": [
    {
     "name": "stdout",
     "output_type": "stream",
     "text": [
      "NumPy set_printoptions(infstr=\"∞\")\n",
      " [    ∞    8.    -∞]\n"
     ]
    }
   ],
   "source": [
    "np.set_printoptions(precision=None, threshold=None, edgeitems=None, linewidth=None, suppress=None, nanstr=None, infstr=None, formatter=None, sign=None, floatmode=None)  # reset print options\n",
    "## infstr\n",
    "# 當陣列元素值出現inf(無限大)時要顯示的內容為何\n",
    "np.set_printoptions(infstr=\"∞\")\n",
    "a = np.array([np.inf, 8, -np.inf])\n",
    "print(\"NumPy set_printoptions(infstr=\\\"∞\\\")\\n\", a)\n"
   ]
  },
  {
   "cell_type": "code",
   "execution_count": 12,
   "metadata": {},
   "outputs": [
    {
     "name": "stdout",
     "output_type": "stream",
     "text": [
      "NumPy set_printoptions(sign=\"+\")\n",
      " [+9. +8. -6. -7.]\n",
      "\n",
      "NumPy set_printoptions(sign=\"-\")\n",
      " [ 9.  8. -6. -7.]\n"
     ]
    }
   ],
   "source": [
    "np.set_printoptions(precision=None, threshold=None, edgeitems=None, linewidth=None, suppress=None, nanstr=None, infstr=None, formatter=None, sign=None, floatmode=None)  # reset print options\n",
    "## sign\n",
    "# 當sign='+'時，就會連正數都會加上正號\n",
    "np.set_printoptions(sign='+')\n",
    "a = np.array([9, 8, -6, -7], dtype=np.float16)\n",
    "print(\"NumPy set_printoptions(sign=\\\"+\\\")\\n\", a)\n",
    "print()\n",
    "# 當sign='-'時(預設值)，就是只有數值<0時，才會加上負號\n",
    "np.set_printoptions(sign='-')\n",
    "a = np.array([9, 8, -6, -7], dtype=np.float16)\n",
    "print(\"NumPy set_printoptions(sign=\\\"-\\\")\\n\", a)\n"
   ]
  },
  {
   "cell_type": "code",
   "execution_count": 13,
   "metadata": {},
   "outputs": [
    {
     "name": "stdout",
     "output_type": "stream",
     "text": [
      "NumPy set_printoptions(formatter={all: i:})\n",
      " [i:0 i:1 i:2 i:3\n",
      " i:4]\n",
      "\n",
      "NumPy set_printoptions(formatter={float_kind: f:})\n",
      " [0 1 2 3 4]\n",
      "NumPy set_printoptions(formatter={float_kind: f:})\n",
      " [f:0.0 f:1.0 f:2.0\n",
      " f:3.0 f:4.0]\n",
      "\n",
      "NumPy set_printoptions({int_kind: i:, float_kind: f:})\n",
      " [i:0 i:1 i:2 i:3\n",
      " i:4]\n",
      "NumPy set_printoptions({int_kind: i:, float_kind: f:})\n",
      " [f:0.0 f:1.0 f:2.0\n",
      " f:3.0 f:4.0]\n"
     ]
    }
   ],
   "source": [
    "np.set_printoptions(precision=None, threshold=None, edgeitems=None, linewidth=None, suppress=None, nanstr=None, infstr=None, formatter=None, sign=None, floatmode=None)  # reset print options\n",
    "## formatter\n",
    "# 使用lambda函數客製列印陣列元素的格式\n",
    "np.set_printoptions()  # reset print options\n",
    "np.set_printoptions(formatter={'all': lambda x: 'i:' + str(x)})\n",
    "print(\"NumPy set_printoptions(formatter={all: i:})\\n\", np.arange(0,5))\n",
    "print()\n",
    "# 這邊可以看出來，只設定了float的格式，是不會對int產生影響的\n",
    "np.set_printoptions(formatter={'float_kind': lambda x: 'f:' + str(x)})\n",
    "print(\"NumPy set_printoptions(formatter={float_kind: f:})\\n\", np.arange(0,5))\n",
    "print(\"NumPy set_printoptions(formatter={float_kind: f:})\\n\", np.arange(0,5, dtype=np.float16))\n",
    "print()\n",
    "# 如果同時只想要客製float和int的格式，可以用逗號隔開設定值\n",
    "np.set_printoptions(formatter={'int_kind': lambda x: 'i:' + str(x), 'float_kind': lambda x: 'f:' + str(x)})\n",
    "print(\"NumPy set_printoptions({int_kind: i:, float_kind: f:})\\n\", np.arange(0,5))\n",
    "print(\"NumPy set_printoptions({int_kind: i:, float_kind: f:})\\n\", np.arange(0,5, dtype=np.float16))\n"
   ]
  }
 ],
 "metadata": {
  "kernelspec": {
   "display_name": "Python 3",
   "language": "python",
   "name": "python3"
  },
  "language_info": {
   "codemirror_mode": {
    "name": "ipython",
    "version": 3
   },
   "file_extension": ".py",
   "mimetype": "text/x-python",
   "name": "python",
   "nbconvert_exporter": "python",
   "pygments_lexer": "ipython3",
   "version": "3.6.4"
  }
 },
 "nbformat": 4,
 "nbformat_minor": 2
}
